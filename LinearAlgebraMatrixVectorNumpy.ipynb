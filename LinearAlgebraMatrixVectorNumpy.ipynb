{
 "cells": [
  {
   "cell_type": "markdown",
   "metadata": {},
   "source": [
    "### Create a matrix"
   ]
  },
  {
   "cell_type": "code",
   "execution_count": 1,
   "metadata": {},
   "outputs": [],
   "source": [
    "import numpy as np"
   ]
  },
  {
   "cell_type": "code",
   "execution_count": 2,
   "metadata": {},
   "outputs": [
    {
     "name": "stdout",
     "output_type": "stream",
     "text": [
      "[21 22 23 24 25 26 27 28 29]\n"
     ]
    }
   ],
   "source": [
    "#make a numpy array\n",
    "a = np.arange(21,30)\n",
    "print(a)"
   ]
  },
  {
   "cell_type": "code",
   "execution_count": 3,
   "metadata": {},
   "outputs": [
    {
     "name": "stdout",
     "output_type": "stream",
     "text": [
      "[[21 22 23]\n",
      " [24 25 26]\n",
      " [27 28 29]]\n"
     ]
    }
   ],
   "source": [
    "#Reshape the numpy array to 2d Matrix\n",
    "a = np.arange(21,30).reshape(3,3) #3*3=9 elements in the original array(21,30)i.e 9\n",
    "print(a)"
   ]
  },
  {
   "cell_type": "code",
   "execution_count": 5,
   "metadata": {},
   "outputs": [
    {
     "name": "stdout",
     "output_type": "stream",
     "text": [
      "[[21 24 27]\n",
      " [22 25 28]\n",
      " [23 26 29]]\n"
     ]
    }
   ],
   "source": [
    "#take the transpose of the matrix\n",
    "b = np.transpose(a)\n",
    "print(b)\n",
    "#rows converted to columns and viceversa"
   ]
  },
  {
   "cell_type": "code",
   "execution_count": 6,
   "metadata": {},
   "outputs": [
    {
     "name": "stdout",
     "output_type": "stream",
     "text": [
      "[[1454 1652 1850]\n",
      " [1652 1877 2102]\n",
      " [1850 2102 2354]]\n"
     ]
    }
   ],
   "source": [
    "#Multiply matrices\n",
    "c = np.dot(a,b)\n",
    "print(c)"
   ]
  },
  {
   "cell_type": "code",
   "execution_count": 9,
   "metadata": {},
   "outputs": [
    {
     "name": "stdout",
     "output_type": "stream",
     "text": [
      "First matrix [[1 2 3]\n",
      " [4 5 6]\n",
      " [7 8 9]]\n",
      "Second matrix [[1 2]\n",
      " [3 4]\n",
      " [5 6]]\n",
      "Multiplication c [[ 22  28]\n",
      " [ 49  64]\n",
      " [ 76 100]]\n",
      "Multiplication d [[ 22  28]\n",
      " [ 49  64]\n",
      " [ 76 100]]\n"
     ]
    }
   ],
   "source": [
    "#Make new matrices and multiply\n",
    "a = np.arange(1,10).reshape(3,3)#9 elements reshaped\n",
    "b = np.arange(1,7).reshape(3,2)#6 elements reshaped\n",
    "\n",
    "#remember for multiplication, First matrix Cols = Second Matrix Rows\n",
    "\n",
    "c = np.dot(a,b)\n",
    "d = a.dot(b)#another way\n",
    "\n",
    "print(\"First matrix\",a)\n",
    "print(\"Second matrix\",b)\n",
    "print('Multiplication c',c)\n",
    "print('Multiplication d',d)"
   ]
  },
  {
   "cell_type": "code",
   "execution_count": 10,
   "metadata": {},
   "outputs": [
    {
     "name": "stdout",
     "output_type": "stream",
     "text": [
      "Prod1 is [[106 156]\n",
      " [241 354]\n",
      " [376 552]]\n",
      "Prod2 is [[106 156]\n",
      " [241 354]\n",
      " [376 552]]\n"
     ]
    }
   ],
   "source": [
    "#Matrix Multiplication is assosciative\n",
    "#i.e. (AB)C=A(BC)\n",
    "A = np.arange(1,10).reshape(3,3)#9 elements\n",
    "B = np.arange(1,7).reshape(3,2)#6 elements\n",
    "C = np.arange(1,5).reshape(2,2)#4 elements\n",
    "\n",
    "#(AB)C\n",
    "Prod1 = (A.dot(B)).dot(C)\n",
    "Prod2 = A.dot(B.dot(C))\n",
    "\n",
    "print(\"Prod1 is\",Prod1)\n",
    "print(\"Prod2 is\",Prod2)\n",
    "\n"
   ]
  },
  {
   "cell_type": "code",
   "execution_count": 13,
   "metadata": {},
   "outputs": [
    {
     "name": "stdout",
     "output_type": "stream",
     "text": [
      "Prod1 is [[ 30  36  42]\n",
      " [ 66  81  96]\n",
      " [102 126 150]]\n",
      "Prod2 is [[ 30  36  42]\n",
      " [ 66  81  96]\n",
      " [102 126 150]]\n"
     ]
    }
   ],
   "source": [
    "#Matrix multiplication is not cumulative. Means the result of A(B) is not equal to B(A )\n",
    "A = np.arange(1,10).reshape(3,3)#9 elements\n",
    "B = np.arange(1,7).reshape(3,2)#6 elements\n",
    "\n",
    "\n",
    "#(AB)C\n",
    "Prod1 = A.dot(B)\n",
    "Prod2 = B.dot(A)#This will result in an error as the no. of cols in B is not equal to np. of rows in A\n",
    "\n",
    "print(\"Prod1 is\",Prod1)\n",
    "print(\"Prod2 is\",Prod2)"
   ]
  },
  {
   "cell_type": "code",
   "execution_count": 18,
   "metadata": {},
   "outputs": [
    {
     "name": "stdout",
     "output_type": "stream",
     "text": [
      "Original 2x2 matrix A [[1 2]\n",
      " [3 4]]\n",
      "Determinant of matrix A is -2.0000000000000004\n",
      "Original 3*3 matrix C [[1 2 3]\n",
      " [4 5 6]\n",
      " [7 8 9]]\n",
      "Determinant of matrix C is -9.51619735392994e-16\n"
     ]
    }
   ],
   "source": [
    "#Find inverse of a matrix \n",
    "\n",
    "#1. Find row Echolon matrix : manipulate rows of matrix till you get identity matrix(i.e. all 1s across the diagonal)\n",
    "#2nd Way\n",
    "#2a. find determinant of a matrix( applied to square matrix only). Prints the submatrices with associated signs of indices i.e. ad-bc\n",
    "\n",
    "#determinant\n",
    "A = np.arange(1,5).reshape(2,2)\n",
    "B = np.linalg.det(A)\n",
    "C = np.arange(1,10).reshape(3,3)\n",
    "D = np.linalg.det(C)\n",
    "\n",
    "print(\"Original 2x2 matrix A\",A)\n",
    "print(\"Determinant of matrix A is\",B)\n",
    "\n",
    "print(\"Original 3*3 matrix C\",C)\n",
    "print(\"Determinant of matrix C is\",D)\n",
    "\n",
    "#A=([[1,2],[3,4]]) i.e. 1*4-2*3=-2 and that is the determinant of the square matrix\n",
    "#A=([[1,2,3],[4,5,6],[7,8,9]]) = 1|5*9-6*8| - 2|4*9-6*7| + 3|4*8-5*7|\n"
   ]
  },
  {
   "cell_type": "code",
   "execution_count": null,
   "metadata": {},
   "outputs": [],
   "source": [
    "#2b. Calculate Minor of a matrix(submatrices)\n",
    "#2c. Cofactor of a matrix( as per the + and - signs)\n",
    "#2d. Cofactor matrix( multiply abve matrix with cofactor signs)\n",
    "#2e. Adjunt of a matrix( Transpose this Cofactor matrix)\n",
    "\n",
    "#Inverse of a matrix= Multiply Adjunt of Matrix by Determinant of matrix(calculated in last step)"
   ]
  },
  {
   "cell_type": "code",
   "execution_count": 22,
   "metadata": {},
   "outputs": [
    {
     "name": "stdout",
     "output_type": "stream",
     "text": [
      "Original Matrix A is  [[1 2 3]\n",
      " [4 5 6]\n",
      " [7 8 9]]\n",
      "Inverse of matrix A is  [[ 3.15251974e+15 -6.30503948e+15  3.15251974e+15]\n",
      " [-6.30503948e+15  1.26100790e+16 -6.30503948e+15]\n",
      " [ 3.15251974e+15 -6.30503948e+15  3.15251974e+15]]\n",
      "product of A and its inverse A1 is  [[ 0.   1.  -0.5]\n",
      " [ 0.   2.  -1. ]\n",
      " [ 0.   3.   2.5]]\n"
     ]
    }
   ],
   "source": [
    "#Code for inverse matrix so simple in Numpy\n",
    "A = np.arange(1,10).reshape(3,3)\n",
    "A1 = np.linalg.inv(A)\n",
    "\n",
    "\n",
    "print(\"Original Matrix A is \",A)\n",
    "print(\"Inverse of matrix A is \",A1)\n",
    "\n",
    "#Let's check if the product of A and it's inverse A1 comes out to be a identity matrix\n",
    "\n",
    "C = A.dot(A1)\n",
    "print(\"product of A and its inverse A1 is \",C)\n"
   ]
  },
  {
   "cell_type": "code",
   "execution_count": 24,
   "metadata": {},
   "outputs": [
    {
     "name": "stdout",
     "output_type": "stream",
     "text": [
      "Original Matrix is [[21 22 23]\n",
      " [24 25 26]\n",
      " [27 28 29]]\n",
      "Eigen vector is (array([ 7.52392369e+01, -2.39236876e-01,  2.99268899e-15]), array([[-0.50588144, -0.72551862,  0.40824829],\n",
      "       [-0.57461613, -0.01878627, -0.81649658],\n",
      "       [-0.64335081,  0.68794608,  0.40824829]]))\n"
     ]
    }
   ],
   "source": [
    "#Find eigen vectors using python. These vectors remain unchanged even after linear transformation on the array\n",
    "\n",
    "A = np.arange(21,30).reshape(3,3)#9 elements\n",
    "B = np.linalg.eig(A)\n",
    "\n",
    "print(\"Original Matrix is\",A)\n",
    "print(\"Eigen vector is\",B)\n",
    "\n",
    "\n"
   ]
  },
  {
   "cell_type": "code",
   "execution_count": null,
   "metadata": {},
   "outputs": [],
   "source": [
    "#we have already made a project on PCA and eigen values"
   ]
  }
 ],
 "metadata": {
  "kernelspec": {
   "display_name": "Python 3",
   "language": "python",
   "name": "python3"
  },
  "language_info": {
   "codemirror_mode": {
    "name": "ipython",
    "version": 3
   },
   "file_extension": ".py",
   "mimetype": "text/x-python",
   "name": "python",
   "nbconvert_exporter": "python",
   "pygments_lexer": "ipython3",
   "version": "3.5.2"
  },
  "widgets": {
   "state": {},
   "version": "1.1.2"
  }
 },
 "nbformat": 4,
 "nbformat_minor": 2
}
